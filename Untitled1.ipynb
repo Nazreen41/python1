{
 "cells": [
  {
   "cell_type": "code",
   "execution_count": 1,
   "id": "b984932d",
   "metadata": {},
   "outputs": [],
   "source": [
    "##understanding of variables\n"
   ]
  },
  {
   "cell_type": "code",
   "execution_count": 2,
   "id": "893d3513",
   "metadata": {},
   "outputs": [],
   "source": [
    "x=5"
   ]
  },
  {
   "cell_type": "code",
   "execution_count": 3,
   "id": "f0c59477",
   "metadata": {},
   "outputs": [],
   "source": [
    "y='nazreen'"
   ]
  },
  {
   "cell_type": "code",
   "execution_count": 7,
   "id": "15c988ed",
   "metadata": {},
   "outputs": [
    {
     "name": "stdout",
     "output_type": "stream",
     "text": [
      "nazreen\n"
     ]
    }
   ],
   "source": [
    "print(y)"
   ]
  },
  {
   "cell_type": "code",
   "execution_count": 9,
   "id": "978506f2",
   "metadata": {},
   "outputs": [],
   "source": [
    "name=\"hello\""
   ]
  },
  {
   "cell_type": "code",
   "execution_count": 10,
   "id": "679b85ad",
   "metadata": {},
   "outputs": [
    {
     "name": "stdout",
     "output_type": "stream",
     "text": [
      "hello\n"
     ]
    }
   ],
   "source": [
    "print(name)"
   ]
  },
  {
   "cell_type": "code",
   "execution_count": 11,
   "id": "c635bd30",
   "metadata": {},
   "outputs": [
    {
     "name": "stdout",
     "output_type": "stream",
     "text": [
      "Hello\n"
     ]
    }
   ],
   "source": [
    "print(name.title())"
   ]
  },
  {
   "cell_type": "code",
   "execution_count": 12,
   "id": "08f2fa60",
   "metadata": {},
   "outputs": [],
   "source": [
    "college='vaag'"
   ]
  },
  {
   "cell_type": "code",
   "execution_count": 13,
   "id": "e93c2f0c",
   "metadata": {},
   "outputs": [
    {
     "name": "stdout",
     "output_type": "stream",
     "text": [
      "vaag\n"
     ]
    }
   ],
   "source": [
    "print(college.lower())"
   ]
  },
  {
   "cell_type": "code",
   "execution_count": 14,
   "id": "020e2608",
   "metadata": {},
   "outputs": [
    {
     "name": "stdout",
     "output_type": "stream",
     "text": [
      "VAAG\n"
     ]
    }
   ],
   "source": [
    "print(college.upper())"
   ]
  },
  {
   "cell_type": "code",
   "execution_count": 15,
   "id": "696e570c",
   "metadata": {},
   "outputs": [],
   "source": [
    "first_name=\"mohammad\"\n",
    "last_name=\"nazreen\""
   ]
  },
  {
   "cell_type": "code",
   "execution_count": 24,
   "id": "456dae33",
   "metadata": {},
   "outputs": [
    {
     "name": "stdout",
     "output_type": "stream",
     "text": [
      "mohammad\n"
     ]
    }
   ],
   "source": [
    "print(first_name)"
   ]
  },
  {
   "cell_type": "code",
   "execution_count": 28,
   "id": "33c1150e",
   "metadata": {},
   "outputs": [],
   "source": [
    "full_name=f\"{first_name} {last_name}\"  ##about fstrings"
   ]
  },
  {
   "cell_type": "code",
   "execution_count": 29,
   "id": "3552f6aa",
   "metadata": {},
   "outputs": [
    {
     "name": "stdout",
     "output_type": "stream",
     "text": [
      "Mohammad Nazreen\n"
     ]
    }
   ],
   "source": [
    "print(full_name.title())"
   ]
  },
  {
   "cell_type": "code",
   "execution_count": null,
   "id": "e4f82908",
   "metadata": {},
   "outputs": [],
   "source": []
  }
 ],
 "metadata": {
  "kernelspec": {
   "display_name": "Python 3",
   "language": "python",
   "name": "python3"
  },
  "language_info": {
   "codemirror_mode": {
    "name": "ipython",
    "version": 3
   },
   "file_extension": ".py",
   "mimetype": "text/x-python",
   "name": "python",
   "nbconvert_exporter": "python",
   "pygments_lexer": "ipython3",
   "version": "3.8.8"
  }
 },
 "nbformat": 4,
 "nbformat_minor": 5
}
